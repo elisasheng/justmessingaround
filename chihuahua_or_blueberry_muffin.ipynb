{
 "cells": [
  {
   "cell_type": "code",
   "execution_count": 4,
   "metadata": {
    "collapsed": true
   },
   "outputs": [
    {
     "name": "stdout",
     "output_type": "stream",
     "text": [
      "Collecting fastai>=2.0.0\n",
      "  Using cached fastai-2.0.16-py3-none-any.whl (187 kB)\n",
      "Collecting graphviz\n",
      "  Downloading graphviz-0.14.2-py2.py3-none-any.whl (18 kB)\n",
      "Collecting ipywidgets\n",
      "  Using cached ipywidgets-7.5.1-py2.py3-none-any.whl (121 kB)\n",
      "Collecting matplotlib\n",
      "  Downloading matplotlib-3.3.2-cp38-cp38-macosx_10_9_x86_64.whl (8.5 MB)\n",
      "\u001b[K     |████████████████████████████████| 8.5 MB 4.5 MB/s eta 0:00:01\n",
      "\u001b[?25hCollecting nbdev>=0.2.12\n",
      "  Downloading nbdev-1.1.2-py3-none-any.whl (47 kB)\n",
      "\u001b[K     |████████████████████████████████| 47 kB 7.9 MB/s  eta 0:00:01\n",
      "\u001b[?25hCollecting pandas\n",
      "  Downloading pandas-1.1.3-cp38-cp38-macosx_10_9_x86_64.whl (10.1 MB)\n",
      "\u001b[K     |████████████████████████████████| 10.1 MB 6.2 MB/s eta 0:00:01    |████▏                           | 1.3 MB 6.2 MB/s eta 0:00:02\n",
      "\u001b[?25hCollecting scikit_learn\n",
      "  Downloading scikit_learn-0.23.2-cp38-cp38-macosx_10_9_x86_64.whl (7.2 MB)\n",
      "\u001b[K     |████████████████████████████████| 7.2 MB 30.4 MB/s eta 0:00:01\n",
      "\u001b[?25hCollecting azure-cognitiveservices-search-imagesearch\n",
      "  Downloading azure_cognitiveservices_search_imagesearch-2.0.0-py2.py3-none-any.whl (46 kB)\n",
      "\u001b[K     |████████████████████████████████| 46 kB 15.6 MB/s eta 0:00:01\n",
      "\u001b[?25hCollecting sentencepiece\n",
      "  Downloading sentencepiece-0.1.91-cp38-cp38-macosx_10_6_x86_64.whl (1.0 MB)\n",
      "\u001b[K     |████████████████████████████████| 1.0 MB 35.8 MB/s eta 0:00:01\n",
      "\u001b[?25hCollecting pyyaml\n",
      "  Using cached PyYAML-5.3.1.tar.gz (269 kB)\n",
      "Requirement already satisfied: pip in /Users/elisasheng/.pyenv/versions/3.8.5/lib/python3.8/site-packages (from fastai>=2.0.0->-r requirements.txt (line 1)) (20.2.3)\n",
      "Collecting fastprogress>=0.2.4\n",
      "  Using cached fastprogress-1.0.0-py3-none-any.whl (12 kB)\n",
      "Collecting pillow\n",
      "  Downloading Pillow-8.0.0-cp38-cp38-macosx_10_10_x86_64.whl (2.2 MB)\n",
      "\u001b[K     |████████████████████████████████| 2.2 MB 2.5 MB/s eta 0:00:01\n",
      "\u001b[?25hRequirement already satisfied: packaging in /Users/elisasheng/.pyenv/versions/3.8.5/lib/python3.8/site-packages (from fastai>=2.0.0->-r requirements.txt (line 1)) (20.4)\n",
      "Collecting scipy\n",
      "  Downloading scipy-1.5.2-cp38-cp38-macosx_10_9_x86_64.whl (28.9 MB)\n",
      "\u001b[K     |████████████████████████████████| 28.9 MB 15.6 MB/s eta 0:00:01\n",
      "\u001b[?25hCollecting torchvision>=0.7\n",
      "  Downloading torchvision-0.7.0-cp38-cp38-macosx_10_9_x86_64.whl (387 kB)\n",
      "\u001b[K     |████████████████████████████████| 387 kB 36.7 MB/s eta 0:00:01\n",
      "\u001b[?25hRequirement already satisfied: requests in /Users/elisasheng/.pyenv/versions/3.8.5/lib/python3.8/site-packages (from fastai>=2.0.0->-r requirements.txt (line 1)) (2.24.0)\n",
      "Collecting fastcore>=1.1.0\n",
      "  Downloading fastcore-1.1.2-py3-none-any.whl (42 kB)\n",
      "\u001b[K     |████████████████████████████████| 42 kB 3.4 MB/s  eta 0:00:01\n",
      "\u001b[?25hCollecting spacy\n",
      "  Downloading spacy-2.3.2-cp38-cp38-macosx_10_9_x86_64.whl (10.1 MB)\n",
      "\u001b[K     |████████████████████████████████| 10.1 MB 8.5 MB/s eta 0:00:01\n",
      "\u001b[?25hCollecting torch>=1.6.0\n",
      "  Downloading torch-1.6.0-cp38-none-macosx_10_9_x86_64.whl (97.5 MB)\n",
      "\u001b[K     |████████████████████████████████| 97.5 MB 21.5 MB/s eta 0:00:01\n",
      "\u001b[?25hRequirement already satisfied: nbformat>=4.2.0 in /Users/elisasheng/.pyenv/versions/3.8.5/lib/python3.8/site-packages (from ipywidgets->-r requirements.txt (line 3)) (5.0.8)\n",
      "Requirement already satisfied: ipython>=4.0.0; python_version >= \"3.3\" in /Users/elisasheng/.pyenv/versions/3.8.5/lib/python3.8/site-packages (from ipywidgets->-r requirements.txt (line 3)) (7.18.1)\n",
      "Requirement already satisfied: traitlets>=4.3.1 in /Users/elisasheng/.pyenv/versions/3.8.5/lib/python3.8/site-packages (from ipywidgets->-r requirements.txt (line 3)) (5.0.5)\n",
      "Collecting widgetsnbextension~=3.5.0\n",
      "  Using cached widgetsnbextension-3.5.1-py2.py3-none-any.whl (2.2 MB)\n",
      "Requirement already satisfied: ipykernel>=4.5.1 in /Users/elisasheng/.pyenv/versions/3.8.5/lib/python3.8/site-packages (from ipywidgets->-r requirements.txt (line 3)) (5.3.4)\n",
      "Requirement already satisfied: certifi>=2020.06.20 in /Users/elisasheng/.pyenv/versions/3.8.5/lib/python3.8/site-packages (from matplotlib->-r requirements.txt (line 4)) (2020.6.20)\n",
      "Collecting cycler>=0.10\n",
      "  Downloading cycler-0.10.0-py2.py3-none-any.whl (6.5 kB)\n",
      "Requirement already satisfied: python-dateutil>=2.1 in /Users/elisasheng/.pyenv/versions/3.8.5/lib/python3.8/site-packages (from matplotlib->-r requirements.txt (line 4)) (2.8.1)\n",
      "Requirement already satisfied: pyparsing!=2.0.4,!=2.1.2,!=2.1.6,>=2.0.3 in /Users/elisasheng/.pyenv/versions/3.8.5/lib/python3.8/site-packages (from matplotlib->-r requirements.txt (line 4)) (2.4.7)\n",
      "Collecting numpy>=1.15\n",
      "  Downloading numpy-1.19.2-cp38-cp38-macosx_10_9_x86_64.whl (15.3 MB)\n",
      "\u001b[K     |████████████████████████████████| 15.3 MB 13.0 MB/s eta 0:00:01\n",
      "\u001b[?25hCollecting kiwisolver>=1.0.1\n",
      "  Downloading kiwisolver-1.2.0-cp38-cp38-macosx_10_9_x86_64.whl (60 kB)\n",
      "\u001b[K     |████████████████████████████████| 60 kB 11.3 MB/s eta 0:00:01\n",
      "\u001b[?25hRequirement already satisfied: jupyter-client in /Users/elisasheng/.pyenv/versions/3.8.5/lib/python3.8/site-packages (from nbdev>=0.2.12->-r requirements.txt (line 5)) (6.1.7)\n",
      "Collecting nbconvert<6\n",
      "  Using cached nbconvert-5.6.1-py2.py3-none-any.whl (455 kB)\n",
      "Collecting pytz>=2017.2\n",
      "  Downloading pytz-2020.1-py2.py3-none-any.whl (510 kB)\n",
      "\u001b[K     |████████████████████████████████| 510 kB 38.2 MB/s eta 0:00:01\n",
      "\u001b[?25hCollecting joblib>=0.11\n",
      "  Downloading joblib-0.17.0-py3-none-any.whl (301 kB)\n",
      "\u001b[K     |████████████████████████████████| 301 kB 23.9 MB/s eta 0:00:01\n",
      "\u001b[?25hCollecting threadpoolctl>=2.0.0\n",
      "  Downloading threadpoolctl-2.1.0-py3-none-any.whl (12 kB)\n",
      "Collecting msrest>=0.5.0\n",
      "  Downloading msrest-0.6.19-py2.py3-none-any.whl (84 kB)\n",
      "\u001b[K     |████████████████████████████████| 84 kB 6.2 MB/s  eta 0:00:01\n",
      "\u001b[?25hCollecting msrestazure<2.0.0,>=0.4.32\n",
      "  Downloading msrestazure-0.6.4-py2.py3-none-any.whl (40 kB)\n",
      "\u001b[K     |████████████████████████████████| 40 kB 7.5 MB/s  eta 0:00:01\n",
      "\u001b[?25hCollecting azure-common~=1.1\n",
      "  Downloading azure_common-1.1.25-py2.py3-none-any.whl (12 kB)\n",
      "Requirement already satisfied: six in /Users/elisasheng/.pyenv/versions/3.8.5/lib/python3.8/site-packages (from packaging->fastai>=2.0.0->-r requirements.txt (line 1)) (1.15.0)\n",
      "Requirement already satisfied: chardet<4,>=3.0.2 in /Users/elisasheng/.pyenv/versions/3.8.5/lib/python3.8/site-packages (from requests->fastai>=2.0.0->-r requirements.txt (line 1)) (3.0.4)\n",
      "Requirement already satisfied: urllib3!=1.25.0,!=1.25.1,<1.26,>=1.21.1 in /Users/elisasheng/.pyenv/versions/3.8.5/lib/python3.8/site-packages (from requests->fastai>=2.0.0->-r requirements.txt (line 1)) (1.25.10)\n",
      "Requirement already satisfied: idna<3,>=2.5 in /Users/elisasheng/.pyenv/versions/3.8.5/lib/python3.8/site-packages (from requests->fastai>=2.0.0->-r requirements.txt (line 1)) (2.10)\n",
      "Collecting cymem<2.1.0,>=2.0.2\n",
      "  Downloading cymem-2.0.3-cp38-cp38-macosx_10_9_x86_64.whl (31 kB)\n",
      "Requirement already satisfied: setuptools in /Users/elisasheng/.pyenv/versions/3.8.5/lib/python3.8/site-packages (from spacy->fastai>=2.0.0->-r requirements.txt (line 1)) (47.1.0)\n",
      "Collecting srsly<1.1.0,>=1.0.2\n",
      "  Downloading srsly-1.0.2-cp38-cp38-macosx_10_9_x86_64.whl (183 kB)\n",
      "\u001b[K     |████████████████████████████████| 183 kB 39.9 MB/s eta 0:00:01\n",
      "\u001b[?25hCollecting preshed<3.1.0,>=3.0.2\n",
      "  Downloading preshed-3.0.2-cp38-cp38-macosx_10_9_x86_64.whl (112 kB)\n",
      "\u001b[K     |████████████████████████████████| 112 kB 41.2 MB/s eta 0:00:01\n",
      "\u001b[?25hCollecting thinc==7.4.1\n",
      "  Downloading thinc-7.4.1-cp38-cp38-macosx_10_9_x86_64.whl (2.1 MB)\n",
      "\u001b[K     |████████████████████████████████| 2.1 MB 31.3 MB/s eta 0:00:01\n",
      "\u001b[?25hCollecting plac<1.2.0,>=0.9.6\n",
      "  Downloading plac-1.1.3-py2.py3-none-any.whl (20 kB)\n",
      "Collecting wasabi<1.1.0,>=0.4.0\n",
      "  Downloading wasabi-0.8.0-py3-none-any.whl (23 kB)\n",
      "Collecting catalogue<1.1.0,>=0.0.7\n",
      "  Downloading catalogue-1.0.0-py2.py3-none-any.whl (7.7 kB)\n",
      "Collecting murmurhash<1.1.0,>=0.28.0\n",
      "  Downloading murmurhash-1.0.2-cp38-cp38-macosx_10_9_x86_64.whl (19 kB)\n",
      "Collecting tqdm<5.0.0,>=4.38.0\n",
      "  Using cached tqdm-4.50.2-py2.py3-none-any.whl (70 kB)\n",
      "Collecting blis<0.5.0,>=0.4.0\n",
      "  Downloading blis-0.4.1-cp38-cp38-macosx_10_9_x86_64.whl (3.7 MB)\n",
      "\u001b[K     |████████████████████████████████| 3.7 MB 20.7 MB/s eta 0:00:01\n",
      "\u001b[?25hCollecting future\n",
      "  Downloading future-0.18.2.tar.gz (829 kB)\n"
     ]
    },
    {
     "name": "stdout",
     "output_type": "stream",
     "text": [
      "\u001b[K     |████████████████████████████████| 829 kB 8.4 MB/s eta 0:00:01\n",
      "\u001b[?25hRequirement already satisfied: jupyter-core in /Users/elisasheng/.pyenv/versions/3.8.5/lib/python3.8/site-packages (from nbformat>=4.2.0->ipywidgets->-r requirements.txt (line 3)) (4.6.3)\n",
      "Requirement already satisfied: jsonschema!=2.5.0,>=2.4 in /Users/elisasheng/.pyenv/versions/3.8.5/lib/python3.8/site-packages (from nbformat>=4.2.0->ipywidgets->-r requirements.txt (line 3)) (3.2.0)\n",
      "Requirement already satisfied: ipython-genutils in /Users/elisasheng/.pyenv/versions/3.8.5/lib/python3.8/site-packages (from nbformat>=4.2.0->ipywidgets->-r requirements.txt (line 3)) (0.2.0)\n",
      "Requirement already satisfied: appnope; sys_platform == \"darwin\" in /Users/elisasheng/.pyenv/versions/3.8.5/lib/python3.8/site-packages (from ipython>=4.0.0; python_version >= \"3.3\"->ipywidgets->-r requirements.txt (line 3)) (0.1.0)\n",
      "Requirement already satisfied: pexpect>4.3; sys_platform != \"win32\" in /Users/elisasheng/.pyenv/versions/3.8.5/lib/python3.8/site-packages (from ipython>=4.0.0; python_version >= \"3.3\"->ipywidgets->-r requirements.txt (line 3)) (4.8.0)\n",
      "Requirement already satisfied: prompt-toolkit!=3.0.0,!=3.0.1,<3.1.0,>=2.0.0 in /Users/elisasheng/.pyenv/versions/3.8.5/lib/python3.8/site-packages (from ipython>=4.0.0; python_version >= \"3.3\"->ipywidgets->-r requirements.txt (line 3)) (3.0.8)\n",
      "Requirement already satisfied: pygments in /Users/elisasheng/.pyenv/versions/3.8.5/lib/python3.8/site-packages (from ipython>=4.0.0; python_version >= \"3.3\"->ipywidgets->-r requirements.txt (line 3)) (2.7.1)\n",
      "Requirement already satisfied: backcall in /Users/elisasheng/.pyenv/versions/3.8.5/lib/python3.8/site-packages (from ipython>=4.0.0; python_version >= \"3.3\"->ipywidgets->-r requirements.txt (line 3)) (0.2.0)\n",
      "Requirement already satisfied: pickleshare in /Users/elisasheng/.pyenv/versions/3.8.5/lib/python3.8/site-packages (from ipython>=4.0.0; python_version >= \"3.3\"->ipywidgets->-r requirements.txt (line 3)) (0.7.5)\n",
      "Requirement already satisfied: jedi>=0.10 in /Users/elisasheng/.pyenv/versions/3.8.5/lib/python3.8/site-packages (from ipython>=4.0.0; python_version >= \"3.3\"->ipywidgets->-r requirements.txt (line 3)) (0.17.2)\n",
      "Requirement already satisfied: decorator in /Users/elisasheng/.pyenv/versions/3.8.5/lib/python3.8/site-packages (from ipython>=4.0.0; python_version >= \"3.3\"->ipywidgets->-r requirements.txt (line 3)) (4.4.2)\n",
      "Requirement already satisfied: notebook>=4.4.1 in /Users/elisasheng/.pyenv/versions/3.8.5/lib/python3.8/site-packages (from widgetsnbextension~=3.5.0->ipywidgets->-r requirements.txt (line 3)) (6.1.4)\n",
      "Requirement already satisfied: tornado>=4.2 in /Users/elisasheng/.pyenv/versions/3.8.5/lib/python3.8/site-packages (from ipykernel>=4.5.1->ipywidgets->-r requirements.txt (line 3)) (6.0.4)\n",
      "Requirement already satisfied: pyzmq>=13 in /Users/elisasheng/.pyenv/versions/3.8.5/lib/python3.8/site-packages (from jupyter-client->nbdev>=0.2.12->-r requirements.txt (line 5)) (19.0.2)\n",
      "Requirement already satisfied: jinja2>=2.4 in /Users/elisasheng/.pyenv/versions/3.8.5/lib/python3.8/site-packages (from nbconvert<6->nbdev>=0.2.12->-r requirements.txt (line 5)) (2.11.2)\n",
      "Requirement already satisfied: testpath in /Users/elisasheng/.pyenv/versions/3.8.5/lib/python3.8/site-packages (from nbconvert<6->nbdev>=0.2.12->-r requirements.txt (line 5)) (0.4.4)\n",
      "Requirement already satisfied: entrypoints>=0.2.2 in /Users/elisasheng/.pyenv/versions/3.8.5/lib/python3.8/site-packages (from nbconvert<6->nbdev>=0.2.12->-r requirements.txt (line 5)) (0.3)\n",
      "Requirement already satisfied: mistune<2,>=0.8.1 in /Users/elisasheng/.pyenv/versions/3.8.5/lib/python3.8/site-packages (from nbconvert<6->nbdev>=0.2.12->-r requirements.txt (line 5)) (0.8.4)\n",
      "Requirement already satisfied: defusedxml in /Users/elisasheng/.pyenv/versions/3.8.5/lib/python3.8/site-packages (from nbconvert<6->nbdev>=0.2.12->-r requirements.txt (line 5)) (0.6.0)\n",
      "Requirement already satisfied: pandocfilters>=1.4.1 in /Users/elisasheng/.pyenv/versions/3.8.5/lib/python3.8/site-packages (from nbconvert<6->nbdev>=0.2.12->-r requirements.txt (line 5)) (1.4.2)\n",
      "Requirement already satisfied: bleach in /Users/elisasheng/.pyenv/versions/3.8.5/lib/python3.8/site-packages (from nbconvert<6->nbdev>=0.2.12->-r requirements.txt (line 5)) (3.2.1)\n",
      "Collecting requests-oauthlib>=0.5.0\n",
      "  Downloading requests_oauthlib-1.3.0-py2.py3-none-any.whl (23 kB)\n",
      "Collecting isodate>=0.6.0\n",
      "  Downloading isodate-0.6.0-py2.py3-none-any.whl (45 kB)\n",
      "\u001b[K     |████████████████████████████████| 45 kB 10.3 MB/s eta 0:00:01\n",
      "\u001b[?25hCollecting adal<2.0.0,>=0.6.0\n",
      "  Downloading adal-1.2.4-py2.py3-none-any.whl (55 kB)\n",
      "\u001b[K     |████████████████████████████████| 55 kB 8.6 MB/s  eta 0:00:01\n",
      "\u001b[?25hRequirement already satisfied: pyrsistent>=0.14.0 in /Users/elisasheng/.pyenv/versions/3.8.5/lib/python3.8/site-packages (from jsonschema!=2.5.0,>=2.4->nbformat>=4.2.0->ipywidgets->-r requirements.txt (line 3)) (0.17.3)\n",
      "Requirement already satisfied: attrs>=17.4.0 in /Users/elisasheng/.pyenv/versions/3.8.5/lib/python3.8/site-packages (from jsonschema!=2.5.0,>=2.4->nbformat>=4.2.0->ipywidgets->-r requirements.txt (line 3)) (20.2.0)\n",
      "Requirement already satisfied: ptyprocess>=0.5 in /Users/elisasheng/.pyenv/versions/3.8.5/lib/python3.8/site-packages (from pexpect>4.3; sys_platform != \"win32\"->ipython>=4.0.0; python_version >= \"3.3\"->ipywidgets->-r requirements.txt (line 3)) (0.6.0)\n",
      "Requirement already satisfied: wcwidth in /Users/elisasheng/.pyenv/versions/3.8.5/lib/python3.8/site-packages (from prompt-toolkit!=3.0.0,!=3.0.1,<3.1.0,>=2.0.0->ipython>=4.0.0; python_version >= \"3.3\"->ipywidgets->-r requirements.txt (line 3)) (0.2.5)\n",
      "Requirement already satisfied: parso<0.8.0,>=0.7.0 in /Users/elisasheng/.pyenv/versions/3.8.5/lib/python3.8/site-packages (from jedi>=0.10->ipython>=4.0.0; python_version >= \"3.3\"->ipywidgets->-r requirements.txt (line 3)) (0.7.1)\n",
      "Requirement already satisfied: terminado>=0.8.3 in /Users/elisasheng/.pyenv/versions/3.8.5/lib/python3.8/site-packages (from notebook>=4.4.1->widgetsnbextension~=3.5.0->ipywidgets->-r requirements.txt (line 3)) (0.9.1)\n",
      "Requirement already satisfied: prometheus-client in /Users/elisasheng/.pyenv/versions/3.8.5/lib/python3.8/site-packages (from notebook>=4.4.1->widgetsnbextension~=3.5.0->ipywidgets->-r requirements.txt (line 3)) (0.8.0)\n",
      "Requirement already satisfied: argon2-cffi in /Users/elisasheng/.pyenv/versions/3.8.5/lib/python3.8/site-packages (from notebook>=4.4.1->widgetsnbextension~=3.5.0->ipywidgets->-r requirements.txt (line 3)) (20.1.0)\n",
      "Requirement already satisfied: Send2Trash in /Users/elisasheng/.pyenv/versions/3.8.5/lib/python3.8/site-packages (from notebook>=4.4.1->widgetsnbextension~=3.5.0->ipywidgets->-r requirements.txt (line 3)) (1.5.0)\n",
      "Requirement already satisfied: MarkupSafe>=0.23 in /Users/elisasheng/.pyenv/versions/3.8.5/lib/python3.8/site-packages (from jinja2>=2.4->nbconvert<6->nbdev>=0.2.12->-r requirements.txt (line 5)) (1.1.1)\n",
      "Requirement already satisfied: webencodings in /Users/elisasheng/.pyenv/versions/3.8.5/lib/python3.8/site-packages (from bleach->nbconvert<6->nbdev>=0.2.12->-r requirements.txt (line 5)) (0.5.1)\n",
      "Collecting oauthlib>=3.0.0\n",
      "  Downloading oauthlib-3.1.0-py2.py3-none-any.whl (147 kB)\n",
      "\u001b[K     |████████████████████████████████| 147 kB 36.3 MB/s eta 0:00:01\n",
      "\u001b[?25hCollecting PyJWT>=1.0.0\n",
      "  Downloading PyJWT-1.7.1-py2.py3-none-any.whl (18 kB)\n",
      "Collecting cryptography>=1.1.0\n",
      "  Downloading cryptography-3.1.1-cp35-abi3-macosx_10_10_x86_64.whl (1.8 MB)\n",
      "\u001b[K     |████████████████████████████████| 1.8 MB 8.8 MB/s eta 0:00:01\n",
      "\u001b[?25hRequirement already satisfied: cffi>=1.0.0 in /Users/elisasheng/.pyenv/versions/3.8.5/lib/python3.8/site-packages (from argon2-cffi->notebook>=4.4.1->widgetsnbextension~=3.5.0->ipywidgets->-r requirements.txt (line 3)) (1.14.3)\n",
      "Requirement already satisfied: pycparser in /Users/elisasheng/.pyenv/versions/3.8.5/lib/python3.8/site-packages (from cffi>=1.0.0->argon2-cffi->notebook>=4.4.1->widgetsnbextension~=3.5.0->ipywidgets->-r requirements.txt (line 3)) (2.20)\n",
      "Using legacy 'setup.py install' for pyyaml, since package 'wheel' is not installed.\n",
      "Using legacy 'setup.py install' for future, since package 'wheel' is not installed.\n"
     ]
    },
    {
     "name": "stdout",
     "output_type": "stream",
     "text": [
      "Installing collected packages: numpy, pytz, pandas, pyyaml, joblib, scipy, threadpoolctl, scikit-learn, fastprogress, pillow, future, torch, torchvision, fastcore, cymem, srsly, murmurhash, preshed, tqdm, plac, catalogue, wasabi, blis, thinc, spacy, cycler, kiwisolver, matplotlib, fastai, graphviz, widgetsnbextension, ipywidgets, nbconvert, nbdev, oauthlib, requests-oauthlib, isodate, msrest, PyJWT, cryptography, adal, msrestazure, azure-common, azure-cognitiveservices-search-imagesearch, sentencepiece\n",
      "    Running setup.py install for pyyaml ... \u001b[?25ldone\n",
      "\u001b[?25h    Running setup.py install for future ... \u001b[?25ldone\n",
      "\u001b[?25h  Attempting uninstall: nbconvert\n",
      "    Found existing installation: nbconvert 6.0.7\n",
      "    Uninstalling nbconvert-6.0.7:\n",
      "      Successfully uninstalled nbconvert-6.0.7\n",
      "Successfully installed PyJWT-1.7.1 adal-1.2.4 azure-cognitiveservices-search-imagesearch-2.0.0 azure-common-1.1.25 blis-0.4.1 catalogue-1.0.0 cryptography-3.1.1 cycler-0.10.0 cymem-2.0.3 fastai-2.0.16 fastcore-1.1.2 fastprogress-1.0.0 future-0.18.2 graphviz-0.14.2 ipywidgets-7.5.1 isodate-0.6.0 joblib-0.17.0 kiwisolver-1.2.0 matplotlib-3.3.2 msrest-0.6.19 msrestazure-0.6.4 murmurhash-1.0.2 nbconvert-5.6.1 nbdev-1.1.2 numpy-1.19.2 oauthlib-3.1.0 pandas-1.1.3 pillow-8.0.0 plac-1.1.3 preshed-3.0.2 pytz-2020.1 pyyaml-5.3.1 requests-oauthlib-1.3.0 scikit-learn-0.23.2 scipy-1.5.2 sentencepiece-0.1.91 spacy-2.3.2 srsly-1.0.2 thinc-7.4.1 threadpoolctl-2.1.0 torch-1.6.0 torchvision-0.7.0 tqdm-4.50.2 wasabi-0.8.0 widgetsnbextension-3.5.1\n"
     ]
    }
   ],
   "source": [
    "!pip3 install -r requirements.txt "
   ]
  },
  {
   "cell_type": "code",
   "execution_count": 13,
   "metadata": {
    "collapsed": true
   },
   "outputs": [
    {
     "name": "stdout",
     "output_type": "stream",
     "text": [
      "Collecting fastbook\n",
      "  Downloading fastbook-0.0.11-py3-none-any.whl (719 kB)\n",
      "\u001b[K     |████████████████████████████████| 719 kB 2.5 MB/s eta 0:00:01\n",
      "\u001b[?25hRequirement already satisfied: fastai>=2.0 in /Users/elisasheng/.pyenv/versions/3.8.5/lib/python3.8/site-packages (from fastbook) (2.0.16)\n",
      "Requirement already satisfied: pandas in /Users/elisasheng/.pyenv/versions/3.8.5/lib/python3.8/site-packages (from fastbook) (1.1.3)\n",
      "Requirement already satisfied: packaging in /Users/elisasheng/.pyenv/versions/3.8.5/lib/python3.8/site-packages (from fastbook) (20.4)\n",
      "Requirement already satisfied: pip in /Users/elisasheng/.pyenv/versions/3.8.5/lib/python3.8/site-packages (from fastbook) (20.2.3)\n",
      "Requirement already satisfied: azure-cognitiveservices-search-imagesearch in /Users/elisasheng/.pyenv/versions/3.8.5/lib/python3.8/site-packages (from fastbook) (2.0.0)\n",
      "Requirement already satisfied: nbdev>=0.2.38 in /Users/elisasheng/.pyenv/versions/3.8.5/lib/python3.8/site-packages (from fastbook) (1.1.2)\n",
      "Requirement already satisfied: ipywidgets in /Users/elisasheng/.pyenv/versions/3.8.5/lib/python3.8/site-packages (from fastbook) (7.5.1)\n",
      "Collecting sentencepiece<0.1.90\n",
      "  Downloading sentencepiece-0.1.86-cp38-cp38-macosx_10_6_x86_64.whl (1.0 MB)\n",
      "\u001b[K     |████████████████████████████████| 1.0 MB 20.5 MB/s eta 0:00:01\n",
      "\u001b[?25hRequirement already satisfied: requests in /Users/elisasheng/.pyenv/versions/3.8.5/lib/python3.8/site-packages (from fastai>=2.0->fastbook) (2.24.0)\n",
      "Requirement already satisfied: matplotlib in /Users/elisasheng/.pyenv/versions/3.8.5/lib/python3.8/site-packages (from fastai>=2.0->fastbook) (3.3.2)\n",
      "Requirement already satisfied: fastprogress>=0.2.4 in /Users/elisasheng/.pyenv/versions/3.8.5/lib/python3.8/site-packages (from fastai>=2.0->fastbook) (1.0.0)\n",
      "Requirement already satisfied: torch>=1.6.0 in /Users/elisasheng/.pyenv/versions/3.8.5/lib/python3.8/site-packages (from fastai>=2.0->fastbook) (1.6.0)\n",
      "Requirement already satisfied: torchvision>=0.7 in /Users/elisasheng/.pyenv/versions/3.8.5/lib/python3.8/site-packages (from fastai>=2.0->fastbook) (0.7.0)\n",
      "Requirement already satisfied: spacy in /Users/elisasheng/.pyenv/versions/3.8.5/lib/python3.8/site-packages (from fastai>=2.0->fastbook) (2.3.2)\n",
      "Requirement already satisfied: scipy in /Users/elisasheng/.pyenv/versions/3.8.5/lib/python3.8/site-packages (from fastai>=2.0->fastbook) (1.5.2)\n",
      "Requirement already satisfied: fastcore>=1.1.0 in /Users/elisasheng/.pyenv/versions/3.8.5/lib/python3.8/site-packages (from fastai>=2.0->fastbook) (1.1.2)\n",
      "Requirement already satisfied: pyyaml in /Users/elisasheng/.pyenv/versions/3.8.5/lib/python3.8/site-packages (from fastai>=2.0->fastbook) (5.3.1)\n",
      "Requirement already satisfied: pillow in /Users/elisasheng/.pyenv/versions/3.8.5/lib/python3.8/site-packages (from fastai>=2.0->fastbook) (8.0.0)\n",
      "Requirement already satisfied: scikit-learn in /Users/elisasheng/.pyenv/versions/3.8.5/lib/python3.8/site-packages (from fastai>=2.0->fastbook) (0.23.2)\n",
      "Requirement already satisfied: python-dateutil>=2.7.3 in /Users/elisasheng/.pyenv/versions/3.8.5/lib/python3.8/site-packages (from pandas->fastbook) (2.8.1)\n",
      "Requirement already satisfied: pytz>=2017.2 in /Users/elisasheng/.pyenv/versions/3.8.5/lib/python3.8/site-packages (from pandas->fastbook) (2020.1)\n",
      "Requirement already satisfied: numpy>=1.15.4 in /Users/elisasheng/.pyenv/versions/3.8.5/lib/python3.8/site-packages (from pandas->fastbook) (1.19.2)\n",
      "Requirement already satisfied: pyparsing>=2.0.2 in /Users/elisasheng/.pyenv/versions/3.8.5/lib/python3.8/site-packages (from packaging->fastbook) (2.4.7)\n",
      "Requirement already satisfied: six in /Users/elisasheng/.pyenv/versions/3.8.5/lib/python3.8/site-packages (from packaging->fastbook) (1.15.0)\n",
      "Requirement already satisfied: msrest>=0.5.0 in /Users/elisasheng/.pyenv/versions/3.8.5/lib/python3.8/site-packages (from azure-cognitiveservices-search-imagesearch->fastbook) (0.6.19)\n",
      "Requirement already satisfied: msrestazure<2.0.0,>=0.4.32 in /Users/elisasheng/.pyenv/versions/3.8.5/lib/python3.8/site-packages (from azure-cognitiveservices-search-imagesearch->fastbook) (0.6.4)\n",
      "Requirement already satisfied: azure-common~=1.1 in /Users/elisasheng/.pyenv/versions/3.8.5/lib/python3.8/site-packages (from azure-cognitiveservices-search-imagesearch->fastbook) (1.1.25)\n",
      "Requirement already satisfied: nbconvert<6 in /Users/elisasheng/.pyenv/versions/3.8.5/lib/python3.8/site-packages (from nbdev>=0.2.38->fastbook) (5.6.1)\n",
      "Requirement already satisfied: nbformat>=4.4.0 in /Users/elisasheng/.pyenv/versions/3.8.5/lib/python3.8/site-packages (from nbdev>=0.2.38->fastbook) (5.0.8)\n",
      "Requirement already satisfied: jupyter-client in /Users/elisasheng/.pyenv/versions/3.8.5/lib/python3.8/site-packages (from nbdev>=0.2.38->fastbook) (6.1.7)\n",
      "Requirement already satisfied: ipykernel in /Users/elisasheng/.pyenv/versions/3.8.5/lib/python3.8/site-packages (from nbdev>=0.2.38->fastbook) (5.3.4)\n",
      "Requirement already satisfied: ipython>=4.0.0; python_version >= \"3.3\" in /Users/elisasheng/.pyenv/versions/3.8.5/lib/python3.8/site-packages (from ipywidgets->fastbook) (7.18.1)\n",
      "Requirement already satisfied: widgetsnbextension~=3.5.0 in /Users/elisasheng/.pyenv/versions/3.8.5/lib/python3.8/site-packages (from ipywidgets->fastbook) (3.5.1)\n",
      "Requirement already satisfied: traitlets>=4.3.1 in /Users/elisasheng/.pyenv/versions/3.8.5/lib/python3.8/site-packages (from ipywidgets->fastbook) (5.0.5)\n",
      "Requirement already satisfied: urllib3!=1.25.0,!=1.25.1,<1.26,>=1.21.1 in /Users/elisasheng/.pyenv/versions/3.8.5/lib/python3.8/site-packages (from requests->fastai>=2.0->fastbook) (1.25.10)\n",
      "Requirement already satisfied: chardet<4,>=3.0.2 in /Users/elisasheng/.pyenv/versions/3.8.5/lib/python3.8/site-packages (from requests->fastai>=2.0->fastbook) (3.0.4)\n",
      "Requirement already satisfied: idna<3,>=2.5 in /Users/elisasheng/.pyenv/versions/3.8.5/lib/python3.8/site-packages (from requests->fastai>=2.0->fastbook) (2.10)\n",
      "Requirement already satisfied: certifi>=2017.4.17 in /Users/elisasheng/.pyenv/versions/3.8.5/lib/python3.8/site-packages (from requests->fastai>=2.0->fastbook) (2020.6.20)\n",
      "Requirement already satisfied: cycler>=0.10 in /Users/elisasheng/.pyenv/versions/3.8.5/lib/python3.8/site-packages (from matplotlib->fastai>=2.0->fastbook) (0.10.0)\n",
      "Requirement already satisfied: kiwisolver>=1.0.1 in /Users/elisasheng/.pyenv/versions/3.8.5/lib/python3.8/site-packages (from matplotlib->fastai>=2.0->fastbook) (1.2.0)\n",
      "Requirement already satisfied: future in /Users/elisasheng/.pyenv/versions/3.8.5/lib/python3.8/site-packages (from torch>=1.6.0->fastai>=2.0->fastbook) (0.18.2)\n",
      "Requirement already satisfied: preshed<3.1.0,>=3.0.2 in /Users/elisasheng/.pyenv/versions/3.8.5/lib/python3.8/site-packages (from spacy->fastai>=2.0->fastbook) (3.0.2)\n",
      "Requirement already satisfied: tqdm<5.0.0,>=4.38.0 in /Users/elisasheng/.pyenv/versions/3.8.5/lib/python3.8/site-packages (from spacy->fastai>=2.0->fastbook) (4.50.2)\n",
      "Requirement already satisfied: catalogue<1.1.0,>=0.0.7 in /Users/elisasheng/.pyenv/versions/3.8.5/lib/python3.8/site-packages (from spacy->fastai>=2.0->fastbook) (1.0.0)\n",
      "Requirement already satisfied: wasabi<1.1.0,>=0.4.0 in /Users/elisasheng/.pyenv/versions/3.8.5/lib/python3.8/site-packages (from spacy->fastai>=2.0->fastbook) (0.8.0)\n",
      "Requirement already satisfied: murmurhash<1.1.0,>=0.28.0 in /Users/elisasheng/.pyenv/versions/3.8.5/lib/python3.8/site-packages (from spacy->fastai>=2.0->fastbook) (1.0.2)\n",
      "Requirement already satisfied: srsly<1.1.0,>=1.0.2 in /Users/elisasheng/.pyenv/versions/3.8.5/lib/python3.8/site-packages (from spacy->fastai>=2.0->fastbook) (1.0.2)\n",
      "Requirement already satisfied: setuptools in /Users/elisasheng/.pyenv/versions/3.8.5/lib/python3.8/site-packages (from spacy->fastai>=2.0->fastbook) (47.1.0)\n",
      "Requirement already satisfied: cymem<2.1.0,>=2.0.2 in /Users/elisasheng/.pyenv/versions/3.8.5/lib/python3.8/site-packages (from spacy->fastai>=2.0->fastbook) (2.0.3)\n",
      "Requirement already satisfied: thinc==7.4.1 in /Users/elisasheng/.pyenv/versions/3.8.5/lib/python3.8/site-packages (from spacy->fastai>=2.0->fastbook) (7.4.1)\n",
      "Requirement already satisfied: plac<1.2.0,>=0.9.6 in /Users/elisasheng/.pyenv/versions/3.8.5/lib/python3.8/site-packages (from spacy->fastai>=2.0->fastbook) (1.1.3)\n",
      "Requirement already satisfied: blis<0.5.0,>=0.4.0 in /Users/elisasheng/.pyenv/versions/3.8.5/lib/python3.8/site-packages (from spacy->fastai>=2.0->fastbook) (0.4.1)\n",
      "Requirement already satisfied: threadpoolctl>=2.0.0 in /Users/elisasheng/.pyenv/versions/3.8.5/lib/python3.8/site-packages (from scikit-learn->fastai>=2.0->fastbook) (2.1.0)\n",
      "Requirement already satisfied: joblib>=0.11 in /Users/elisasheng/.pyenv/versions/3.8.5/lib/python3.8/site-packages (from scikit-learn->fastai>=2.0->fastbook) (0.17.0)\n",
      "Requirement already satisfied: isodate>=0.6.0 in /Users/elisasheng/.pyenv/versions/3.8.5/lib/python3.8/site-packages (from msrest>=0.5.0->azure-cognitiveservices-search-imagesearch->fastbook) (0.6.0)\n",
      "Requirement already satisfied: requests-oauthlib>=0.5.0 in /Users/elisasheng/.pyenv/versions/3.8.5/lib/python3.8/site-packages (from msrest>=0.5.0->azure-cognitiveservices-search-imagesearch->fastbook) (1.3.0)\n",
      "Requirement already satisfied: adal<2.0.0,>=0.6.0 in /Users/elisasheng/.pyenv/versions/3.8.5/lib/python3.8/site-packages (from msrestazure<2.0.0,>=0.4.32->azure-cognitiveservices-search-imagesearch->fastbook) (1.2.4)\n",
      "Requirement already satisfied: jinja2>=2.4 in /Users/elisasheng/.pyenv/versions/3.8.5/lib/python3.8/site-packages (from nbconvert<6->nbdev>=0.2.38->fastbook) (2.11.2)\n",
      "Requirement already satisfied: defusedxml in /Users/elisasheng/.pyenv/versions/3.8.5/lib/python3.8/site-packages (from nbconvert<6->nbdev>=0.2.38->fastbook) (0.6.0)\n",
      "Requirement already satisfied: testpath in /Users/elisasheng/.pyenv/versions/3.8.5/lib/python3.8/site-packages (from nbconvert<6->nbdev>=0.2.38->fastbook) (0.4.4)\n"
     ]
    },
    {
     "name": "stdout",
     "output_type": "stream",
     "text": [
      "Requirement already satisfied: pygments in /Users/elisasheng/.pyenv/versions/3.8.5/lib/python3.8/site-packages (from nbconvert<6->nbdev>=0.2.38->fastbook) (2.7.1)\n",
      "Requirement already satisfied: jupyter-core in /Users/elisasheng/.pyenv/versions/3.8.5/lib/python3.8/site-packages (from nbconvert<6->nbdev>=0.2.38->fastbook) (4.6.3)\n",
      "Requirement already satisfied: bleach in /Users/elisasheng/.pyenv/versions/3.8.5/lib/python3.8/site-packages (from nbconvert<6->nbdev>=0.2.38->fastbook) (3.2.1)\n",
      "Requirement already satisfied: entrypoints>=0.2.2 in /Users/elisasheng/.pyenv/versions/3.8.5/lib/python3.8/site-packages (from nbconvert<6->nbdev>=0.2.38->fastbook) (0.3)\n",
      "Requirement already satisfied: mistune<2,>=0.8.1 in /Users/elisasheng/.pyenv/versions/3.8.5/lib/python3.8/site-packages (from nbconvert<6->nbdev>=0.2.38->fastbook) (0.8.4)\n",
      "Requirement already satisfied: pandocfilters>=1.4.1 in /Users/elisasheng/.pyenv/versions/3.8.5/lib/python3.8/site-packages (from nbconvert<6->nbdev>=0.2.38->fastbook) (1.4.2)\n",
      "Requirement already satisfied: ipython-genutils in /Users/elisasheng/.pyenv/versions/3.8.5/lib/python3.8/site-packages (from nbformat>=4.4.0->nbdev>=0.2.38->fastbook) (0.2.0)\n",
      "Requirement already satisfied: jsonschema!=2.5.0,>=2.4 in /Users/elisasheng/.pyenv/versions/3.8.5/lib/python3.8/site-packages (from nbformat>=4.4.0->nbdev>=0.2.38->fastbook) (3.2.0)\n",
      "Requirement already satisfied: pyzmq>=13 in /Users/elisasheng/.pyenv/versions/3.8.5/lib/python3.8/site-packages (from jupyter-client->nbdev>=0.2.38->fastbook) (19.0.2)\n",
      "Requirement already satisfied: tornado>=4.1 in /Users/elisasheng/.pyenv/versions/3.8.5/lib/python3.8/site-packages (from jupyter-client->nbdev>=0.2.38->fastbook) (6.0.4)\n",
      "Requirement already satisfied: appnope; platform_system == \"Darwin\" in /Users/elisasheng/.pyenv/versions/3.8.5/lib/python3.8/site-packages (from ipykernel->nbdev>=0.2.38->fastbook) (0.1.0)\n",
      "Requirement already satisfied: jedi>=0.10 in /Users/elisasheng/.pyenv/versions/3.8.5/lib/python3.8/site-packages (from ipython>=4.0.0; python_version >= \"3.3\"->ipywidgets->fastbook) (0.17.2)\n",
      "Requirement already satisfied: prompt-toolkit!=3.0.0,!=3.0.1,<3.1.0,>=2.0.0 in /Users/elisasheng/.pyenv/versions/3.8.5/lib/python3.8/site-packages (from ipython>=4.0.0; python_version >= \"3.3\"->ipywidgets->fastbook) (3.0.8)\n",
      "Requirement already satisfied: backcall in /Users/elisasheng/.pyenv/versions/3.8.5/lib/python3.8/site-packages (from ipython>=4.0.0; python_version >= \"3.3\"->ipywidgets->fastbook) (0.2.0)\n",
      "Requirement already satisfied: pickleshare in /Users/elisasheng/.pyenv/versions/3.8.5/lib/python3.8/site-packages (from ipython>=4.0.0; python_version >= \"3.3\"->ipywidgets->fastbook) (0.7.5)\n",
      "Requirement already satisfied: decorator in /Users/elisasheng/.pyenv/versions/3.8.5/lib/python3.8/site-packages (from ipython>=4.0.0; python_version >= \"3.3\"->ipywidgets->fastbook) (4.4.2)\n",
      "Requirement already satisfied: pexpect>4.3; sys_platform != \"win32\" in /Users/elisasheng/.pyenv/versions/3.8.5/lib/python3.8/site-packages (from ipython>=4.0.0; python_version >= \"3.3\"->ipywidgets->fastbook) (4.8.0)\n",
      "Requirement already satisfied: notebook>=4.4.1 in /Users/elisasheng/.pyenv/versions/3.8.5/lib/python3.8/site-packages (from widgetsnbextension~=3.5.0->ipywidgets->fastbook) (6.1.4)\n",
      "Requirement already satisfied: oauthlib>=3.0.0 in /Users/elisasheng/.pyenv/versions/3.8.5/lib/python3.8/site-packages (from requests-oauthlib>=0.5.0->msrest>=0.5.0->azure-cognitiveservices-search-imagesearch->fastbook) (3.1.0)\n",
      "Requirement already satisfied: cryptography>=1.1.0 in /Users/elisasheng/.pyenv/versions/3.8.5/lib/python3.8/site-packages (from adal<2.0.0,>=0.6.0->msrestazure<2.0.0,>=0.4.32->azure-cognitiveservices-search-imagesearch->fastbook) (3.1.1)\n",
      "Requirement already satisfied: PyJWT>=1.0.0 in /Users/elisasheng/.pyenv/versions/3.8.5/lib/python3.8/site-packages (from adal<2.0.0,>=0.6.0->msrestazure<2.0.0,>=0.4.32->azure-cognitiveservices-search-imagesearch->fastbook) (1.7.1)\n",
      "Requirement already satisfied: MarkupSafe>=0.23 in /Users/elisasheng/.pyenv/versions/3.8.5/lib/python3.8/site-packages (from jinja2>=2.4->nbconvert<6->nbdev>=0.2.38->fastbook) (1.1.1)\n",
      "Requirement already satisfied: webencodings in /Users/elisasheng/.pyenv/versions/3.8.5/lib/python3.8/site-packages (from bleach->nbconvert<6->nbdev>=0.2.38->fastbook) (0.5.1)\n",
      "Requirement already satisfied: attrs>=17.4.0 in /Users/elisasheng/.pyenv/versions/3.8.5/lib/python3.8/site-packages (from jsonschema!=2.5.0,>=2.4->nbformat>=4.4.0->nbdev>=0.2.38->fastbook) (20.2.0)\n",
      "Requirement already satisfied: pyrsistent>=0.14.0 in /Users/elisasheng/.pyenv/versions/3.8.5/lib/python3.8/site-packages (from jsonschema!=2.5.0,>=2.4->nbformat>=4.4.0->nbdev>=0.2.38->fastbook) (0.17.3)\n",
      "Requirement already satisfied: parso<0.8.0,>=0.7.0 in /Users/elisasheng/.pyenv/versions/3.8.5/lib/python3.8/site-packages (from jedi>=0.10->ipython>=4.0.0; python_version >= \"3.3\"->ipywidgets->fastbook) (0.7.1)\n",
      "Requirement already satisfied: wcwidth in /Users/elisasheng/.pyenv/versions/3.8.5/lib/python3.8/site-packages (from prompt-toolkit!=3.0.0,!=3.0.1,<3.1.0,>=2.0.0->ipython>=4.0.0; python_version >= \"3.3\"->ipywidgets->fastbook) (0.2.5)\n",
      "Requirement already satisfied: ptyprocess>=0.5 in /Users/elisasheng/.pyenv/versions/3.8.5/lib/python3.8/site-packages (from pexpect>4.3; sys_platform != \"win32\"->ipython>=4.0.0; python_version >= \"3.3\"->ipywidgets->fastbook) (0.6.0)\n",
      "Requirement already satisfied: terminado>=0.8.3 in /Users/elisasheng/.pyenv/versions/3.8.5/lib/python3.8/site-packages (from notebook>=4.4.1->widgetsnbextension~=3.5.0->ipywidgets->fastbook) (0.9.1)\n",
      "Requirement already satisfied: argon2-cffi in /Users/elisasheng/.pyenv/versions/3.8.5/lib/python3.8/site-packages (from notebook>=4.4.1->widgetsnbextension~=3.5.0->ipywidgets->fastbook) (20.1.0)\n",
      "Requirement already satisfied: Send2Trash in /Users/elisasheng/.pyenv/versions/3.8.5/lib/python3.8/site-packages (from notebook>=4.4.1->widgetsnbextension~=3.5.0->ipywidgets->fastbook) (1.5.0)\n",
      "Requirement already satisfied: prometheus-client in /Users/elisasheng/.pyenv/versions/3.8.5/lib/python3.8/site-packages (from notebook>=4.4.1->widgetsnbextension~=3.5.0->ipywidgets->fastbook) (0.8.0)\n",
      "Requirement already satisfied: cffi!=1.11.3,>=1.8 in /Users/elisasheng/.pyenv/versions/3.8.5/lib/python3.8/site-packages (from cryptography>=1.1.0->adal<2.0.0,>=0.6.0->msrestazure<2.0.0,>=0.4.32->azure-cognitiveservices-search-imagesearch->fastbook) (1.14.3)\n",
      "Requirement already satisfied: pycparser in /Users/elisasheng/.pyenv/versions/3.8.5/lib/python3.8/site-packages (from cffi!=1.11.3,>=1.8->cryptography>=1.1.0->adal<2.0.0,>=0.6.0->msrestazure<2.0.0,>=0.4.32->azure-cognitiveservices-search-imagesearch->fastbook) (2.20)\n",
      "Installing collected packages: sentencepiece, fastbook\n",
      "  Attempting uninstall: sentencepiece\n",
      "    Found existing installation: sentencepiece 0.1.91\n",
      "    Uninstalling sentencepiece-0.1.91:\n",
      "      Successfully uninstalled sentencepiece-0.1.91\n",
      "Successfully installed fastbook-0.0.11 sentencepiece-0.1.86\n"
     ]
    }
   ],
   "source": [
    "!pip3 install fastbook"
   ]
  },
  {
   "cell_type": "code",
   "execution_count": 28,
   "metadata": {
    "collapsed": true
   },
   "outputs": [
    {
     "name": "stdout",
     "output_type": "stream",
     "text": [
      "Collecting voila\n",
      "  Downloading voila-0.2.3-py3-none-any.whl (6.9 MB)\n",
      "\u001b[K     |████████████████████████████████| 6.9 MB 2.4 MB/s eta 0:00:01\n",
      "\u001b[?25hCollecting jupyter-server<2.0.0,>=0.3.0\n",
      "  Downloading jupyter_server-1.0.5-py3-none-any.whl (196 kB)\n",
      "\u001b[K     |████████████████████████████████| 196 kB 26.8 MB/s eta 0:00:01\n",
      "\u001b[?25hRequirement already satisfied: nbclient<0.6,>=0.4.0 in /Users/elisasheng/.pyenv/versions/3.8.5/lib/python3.8/site-packages (from voila) (0.5.1)\n",
      "Collecting nbconvert<7,>=6.0.0\n",
      "  Using cached nbconvert-6.0.7-py3-none-any.whl (552 kB)\n",
      "Requirement already satisfied: jupyter-client<7,>=6.1.3 in /Users/elisasheng/.pyenv/versions/3.8.5/lib/python3.8/site-packages (from voila) (6.1.7)\n",
      "Requirement already satisfied: jupyter-core>=4.4.0 in /Users/elisasheng/.pyenv/versions/3.8.5/lib/python3.8/site-packages (from jupyter-server<2.0.0,>=0.3.0->voila) (4.6.3)\n",
      "Requirement already satisfied: nbformat in /Users/elisasheng/.pyenv/versions/3.8.5/lib/python3.8/site-packages (from jupyter-server<2.0.0,>=0.3.0->voila) (5.0.8)\n",
      "Requirement already satisfied: prometheus-client in /Users/elisasheng/.pyenv/versions/3.8.5/lib/python3.8/site-packages (from jupyter-server<2.0.0,>=0.3.0->voila) (0.8.0)\n",
      "Requirement already satisfied: jinja2 in /Users/elisasheng/.pyenv/versions/3.8.5/lib/python3.8/site-packages (from jupyter-server<2.0.0,>=0.3.0->voila) (2.11.2)\n",
      "Requirement already satisfied: ipython-genutils in /Users/elisasheng/.pyenv/versions/3.8.5/lib/python3.8/site-packages (from jupyter-server<2.0.0,>=0.3.0->voila) (0.2.0)\n",
      "Requirement already satisfied: Send2Trash in /Users/elisasheng/.pyenv/versions/3.8.5/lib/python3.8/site-packages (from jupyter-server<2.0.0,>=0.3.0->voila) (1.5.0)\n",
      "Requirement already satisfied: terminado>=0.8.3 in /Users/elisasheng/.pyenv/versions/3.8.5/lib/python3.8/site-packages (from jupyter-server<2.0.0,>=0.3.0->voila) (0.9.1)\n",
      "Requirement already satisfied: pyzmq>=17 in /Users/elisasheng/.pyenv/versions/3.8.5/lib/python3.8/site-packages (from jupyter-server<2.0.0,>=0.3.0->voila) (19.0.2)\n",
      "Requirement already satisfied: tornado>=5.0 in /Users/elisasheng/.pyenv/versions/3.8.5/lib/python3.8/site-packages (from jupyter-server<2.0.0,>=0.3.0->voila) (6.0.4)\n",
      "Requirement already satisfied: traitlets>=4.2.1 in /Users/elisasheng/.pyenv/versions/3.8.5/lib/python3.8/site-packages (from jupyter-server<2.0.0,>=0.3.0->voila) (5.0.5)\n",
      "Requirement already satisfied: nest-asyncio in /Users/elisasheng/.pyenv/versions/3.8.5/lib/python3.8/site-packages (from nbclient<0.6,>=0.4.0->voila) (1.4.1)\n",
      "Requirement already satisfied: async-generator in /Users/elisasheng/.pyenv/versions/3.8.5/lib/python3.8/site-packages (from nbclient<0.6,>=0.4.0->voila) (1.10)\n",
      "Requirement already satisfied: mistune<2,>=0.8.1 in /Users/elisasheng/.pyenv/versions/3.8.5/lib/python3.8/site-packages (from nbconvert<7,>=6.0.0->voila) (0.8.4)\n",
      "Requirement already satisfied: pygments>=2.4.1 in /Users/elisasheng/.pyenv/versions/3.8.5/lib/python3.8/site-packages (from nbconvert<7,>=6.0.0->voila) (2.7.1)\n",
      "Requirement already satisfied: testpath in /Users/elisasheng/.pyenv/versions/3.8.5/lib/python3.8/site-packages (from nbconvert<7,>=6.0.0->voila) (0.4.4)\n",
      "Requirement already satisfied: pandocfilters>=1.4.1 in /Users/elisasheng/.pyenv/versions/3.8.5/lib/python3.8/site-packages (from nbconvert<7,>=6.0.0->voila) (1.4.2)\n",
      "Requirement already satisfied: entrypoints>=0.2.2 in /Users/elisasheng/.pyenv/versions/3.8.5/lib/python3.8/site-packages (from nbconvert<7,>=6.0.0->voila) (0.3)\n",
      "Requirement already satisfied: defusedxml in /Users/elisasheng/.pyenv/versions/3.8.5/lib/python3.8/site-packages (from nbconvert<7,>=6.0.0->voila) (0.6.0)\n",
      "Requirement already satisfied: jupyterlab-pygments in /Users/elisasheng/.pyenv/versions/3.8.5/lib/python3.8/site-packages (from nbconvert<7,>=6.0.0->voila) (0.1.2)\n",
      "Requirement already satisfied: bleach in /Users/elisasheng/.pyenv/versions/3.8.5/lib/python3.8/site-packages (from nbconvert<7,>=6.0.0->voila) (3.2.1)\n",
      "Requirement already satisfied: python-dateutil>=2.1 in /Users/elisasheng/.pyenv/versions/3.8.5/lib/python3.8/site-packages (from jupyter-client<7,>=6.1.3->voila) (2.8.1)\n",
      "Requirement already satisfied: jsonschema!=2.5.0,>=2.4 in /Users/elisasheng/.pyenv/versions/3.8.5/lib/python3.8/site-packages (from nbformat->jupyter-server<2.0.0,>=0.3.0->voila) (3.2.0)\n",
      "Requirement already satisfied: MarkupSafe>=0.23 in /Users/elisasheng/.pyenv/versions/3.8.5/lib/python3.8/site-packages (from jinja2->jupyter-server<2.0.0,>=0.3.0->voila) (1.1.1)\n",
      "Requirement already satisfied: ptyprocess; os_name != \"nt\" in /Users/elisasheng/.pyenv/versions/3.8.5/lib/python3.8/site-packages (from terminado>=0.8.3->jupyter-server<2.0.0,>=0.3.0->voila) (0.6.0)\n",
      "Requirement already satisfied: packaging in /Users/elisasheng/.pyenv/versions/3.8.5/lib/python3.8/site-packages (from bleach->nbconvert<7,>=6.0.0->voila) (20.4)\n",
      "Requirement already satisfied: six>=1.9.0 in /Users/elisasheng/.pyenv/versions/3.8.5/lib/python3.8/site-packages (from bleach->nbconvert<7,>=6.0.0->voila) (1.15.0)\n",
      "Requirement already satisfied: webencodings in /Users/elisasheng/.pyenv/versions/3.8.5/lib/python3.8/site-packages (from bleach->nbconvert<7,>=6.0.0->voila) (0.5.1)\n",
      "Requirement already satisfied: pyrsistent>=0.14.0 in /Users/elisasheng/.pyenv/versions/3.8.5/lib/python3.8/site-packages (from jsonschema!=2.5.0,>=2.4->nbformat->jupyter-server<2.0.0,>=0.3.0->voila) (0.17.3)\n",
      "Requirement already satisfied: setuptools in /Users/elisasheng/.pyenv/versions/3.8.5/lib/python3.8/site-packages (from jsonschema!=2.5.0,>=2.4->nbformat->jupyter-server<2.0.0,>=0.3.0->voila) (47.1.0)\n",
      "Requirement already satisfied: attrs>=17.4.0 in /Users/elisasheng/.pyenv/versions/3.8.5/lib/python3.8/site-packages (from jsonschema!=2.5.0,>=2.4->nbformat->jupyter-server<2.0.0,>=0.3.0->voila) (20.2.0)\n",
      "Requirement already satisfied: pyparsing>=2.0.2 in /Users/elisasheng/.pyenv/versions/3.8.5/lib/python3.8/site-packages (from packaging->bleach->nbconvert<7,>=6.0.0->voila) (2.4.7)\n",
      "Installing collected packages: nbconvert, jupyter-server, voila\n",
      "  Attempting uninstall: nbconvert\n",
      "    Found existing installation: nbconvert 5.6.1\n",
      "    Uninstalling nbconvert-5.6.1:\n",
      "      Successfully uninstalled nbconvert-5.6.1\n",
      "\u001b[31mERROR: After October 2020 you may experience errors when installing or updating packages. This is because pip will change the way that it resolves dependency conflicts.\n",
      "\n",
      "We recommend you use --use-feature=2020-resolver to test your packages with the new resolver before it becomes the default.\n",
      "\n",
      "nbdev 1.1.2 requires nbconvert<6, but you'll have nbconvert 6.0.7 which is incompatible.\u001b[0m\n",
      "Successfully installed jupyter-server-1.0.5 nbconvert-6.0.7 voila-0.2.3\n",
      "Enabling: voila\n",
      "- Writing config: /Users/elisasheng/.jupyter\n",
      "    - Validating...\n",
      "      voila 0.2.3 \u001b[32mOK\u001b[0m\n",
      "Enabling: —sys-prefix\n",
      "- Writing config: /Users/elisasheng/.jupyter\n",
      "    - Validating...\n",
      "Error loading server extension —sys-prefix\n",
      "     \u001b[31m X\u001b[0m is —sys-prefix importable?\n"
     ]
    }
   ],
   "source": [
    "!pip install voila\n",
    "!jupyter serverextension enable voila —sys-prefix"
   ]
  },
  {
   "cell_type": "code",
   "execution_count": 26,
   "metadata": {
    "scrolled": true
   },
   "outputs": [],
   "source": [
    "from fastbook import *\n",
    "from fastai.vision.widgets import *"
   ]
  },
  {
   "cell_type": "code",
   "execution_count": 15,
   "metadata": {},
   "outputs": [
    {
     "data": {
      "text/plain": [
       "(#1) [Path('export.pkl')]"
      ]
     },
     "execution_count": 15,
     "metadata": {},
     "output_type": "execute_result"
    }
   ],
   "source": [
    "path = Path()\n",
    "path.ls(file_exts='.pkl')"
   ]
  },
  {
   "cell_type": "code",
   "execution_count": 16,
   "metadata": {},
   "outputs": [],
   "source": [
    "learn_inf = load_learner(path/'export.pkl')"
   ]
  },
  {
   "cell_type": "code",
   "execution_count": 27,
   "metadata": {},
   "outputs": [
    {
     "data": {
      "application/vnd.jupyter.widget-view+json": {
       "model_id": "c62705968999431d9d0fa049ff1d1a28",
       "version_major": 2,
       "version_minor": 0
      },
      "text/plain": [
       "FileUpload(value={}, description='Upload')"
      ]
     },
     "metadata": {},
     "output_type": "display_data"
    }
   ],
   "source": [
    "uploader = widgets.FileUpload()\n",
    "uploader"
   ]
  },
  {
   "cell_type": "code",
   "execution_count": 45,
   "metadata": {},
   "outputs": [],
   "source": [
    "img = PILImage.create(uploader.data[0])"
   ]
  },
  {
   "cell_type": "code",
   "execution_count": 47,
   "metadata": {},
   "outputs": [
    {
     "data": {
      "text/html": [],
      "text/plain": [
       "<IPython.core.display.HTML object>"
      ]
     },
     "metadata": {},
     "output_type": "display_data"
    },
    {
     "data": {
      "text/plain": [
       "('muffin', tensor(1), tensor([0.0031, 0.9969]))"
      ]
     },
     "execution_count": 47,
     "metadata": {},
     "output_type": "execute_result"
    }
   ],
   "source": [
    "learn_inf.predict(img)"
   ]
  },
  {
   "cell_type": "code",
   "execution_count": null,
   "metadata": {},
   "outputs": [],
   "source": []
  },
  {
   "cell_type": "code",
   "execution_count": 21,
   "metadata": {},
   "outputs": [],
   "source": [
    "out_pl = widgets.Output()\n",
    "out_pl.clear_output()"
   ]
  },
  {
   "cell_type": "code",
   "execution_count": 23,
   "metadata": {},
   "outputs": [],
   "source": [
    "lbl_pred = widgets.Label()\n"
   ]
  },
  {
   "cell_type": "code",
   "execution_count": 17,
   "metadata": {},
   "outputs": [
    {
     "data": {
      "application/vnd.jupyter.widget-view+json": {
       "model_id": "096c34353a874d5dbefab924b95d5043",
       "version_major": 2,
       "version_minor": 0
      },
      "text/plain": [
       "FileUpload(value={}, description='Upload')"
      ]
     },
     "metadata": {},
     "output_type": "display_data"
    }
   ],
   "source": [
    "btn_upload = widgets.FileUpload()\n",
    "btn_upload"
   ]
  },
  {
   "cell_type": "code",
   "execution_count": 18,
   "metadata": {},
   "outputs": [
    {
     "data": {
      "application/vnd.jupyter.widget-view+json": {
       "model_id": "91b4e49a4c344d0c82953795b292426c",
       "version_major": 2,
       "version_minor": 0
      },
      "text/plain": [
       "Button(description='Classify', style=ButtonStyle())"
      ]
     },
     "metadata": {},
     "output_type": "display_data"
    }
   ],
   "source": [
    "btn_run = widgets.Button(description='Classify')\n",
    "btn_run"
   ]
  },
  {
   "cell_type": "code",
   "execution_count": 24,
   "metadata": {},
   "outputs": [],
   "source": [
    "def on_click_classify(change):\n",
    "    img = PILImage.create(btn_upload.data[-1])\n",
    "    out_pl.clear_output()\n",
    "    with out_pl: display(img.to_thumb(128,128))\n",
    "    pred,pred_idx,probs = learn_inf.predict(img)\n",
    "    lbl_pred.value = f'Prediction: {pred}; Probability: {probs[pred_idx]:.04f}'\n",
    "\n",
    "btn_run.on_click(on_click_classify)"
   ]
  },
  {
   "cell_type": "code",
   "execution_count": 25,
   "metadata": {},
   "outputs": [
    {
     "data": {
      "application/vnd.jupyter.widget-view+json": {
       "model_id": "9854099166d94168be39cb69dc77329f",
       "version_major": 2,
       "version_minor": 0
      },
      "text/plain": [
       "VBox(children=(Label(value='Select your picture!'), FileUpload(value={}, description='Upload'), Button(descrip…"
      ]
     },
     "metadata": {},
     "output_type": "display_data"
    }
   ],
   "source": [
    "VBox([widgets.Label('Select your picture!'), \n",
    "      btn_upload, btn_run, out_pl, lbl_pred])"
   ]
  }
 ],
 "metadata": {
  "kernelspec": {
   "display_name": "Python 3",
   "language": "python",
   "name": "python3"
  },
  "language_info": {
   "codemirror_mode": {
    "name": "ipython",
    "version": 3
   },
   "file_extension": ".py",
   "mimetype": "text/x-python",
   "name": "python",
   "nbconvert_exporter": "python",
   "pygments_lexer": "ipython3",
   "version": "3.8.5"
  }
 },
 "nbformat": 4,
 "nbformat_minor": 4
}
